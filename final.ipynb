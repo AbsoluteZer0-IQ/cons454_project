{
 "cells": [
  {
   "cell_type": "code",
   "execution_count": 1,
   "id": "2f6fa96e-b5fc-4ca1-b55a-a149f7be5c2f",
   "metadata": {},
   "outputs": [],
   "source": [
    "import os, sys\n",
    "import matplotlib.pyplot as plt\n",
    "import numpy as np\n",
    "import pandas as pd\n",
    "\n",
    "import torch\n",
    "import torch.nn as nn\n",
    "import torch.optim as optim\n",
    "import torchvision\n",
    "from torch.optim import lr_scheduler\n",
    "from torchvision import datasets, models, transforms, utils\n",
    "from PIL import Image\n",
    "from torchvision import transforms\n",
    "from torchvision.models import vgg16\n",
    "import glob\n",
    "\n",
    "from sklearn.pipeline import Pipeline, make_pipeline\n",
    "from sklearn.preprocessing import StandardScaler\n",
    "from sklearn.linear_model import LogisticRegression"
   ]
  },
  {
   "cell_type": "code",
   "execution_count": 2,
   "id": "b733abb4-b41e-429c-9d6b-33f6b1dd21c4",
   "metadata": {},
   "outputs": [],
   "source": [
    "DATA_DIR = os.path.join(os.path.abspath(\"..\"), \"../camera trap photos/PROJECT/\")"
   ]
  },
  {
   "cell_type": "code",
   "execution_count": 3,
   "id": "e8b92304-7ebd-44c8-81db-de5e72bdd4cf",
   "metadata": {},
   "outputs": [],
   "source": [
    "# Attribution: [Code from PyTorch docs](https://pytorch.org/tutorials/beginner/transfer_learning_tutorial.html?highlight=transfer%20learning)\n",
    "\n",
    "IMAGE_LENGTH = 711\n",
    "IMAGE_WIDTH = 400\n",
    "\n",
    "data_transforms = {\n",
    "    \"train\": transforms.Compose(\n",
    "        [\n",
    "            transforms.Resize((IMAGE_WIDTH, IMAGE_LENGTH)),     \n",
    "            transforms.ToTensor(),\n",
    "            transforms.Normalize([0.5, 0.5, 0.5], [0.5, 0.5, 0.5]),            \n",
    "        ]\n",
    "    ),\n",
    "    \"valid\": transforms.Compose(\n",
    "        [\n",
    "            transforms.Resize((IMAGE_WIDTH, IMAGE_LENGTH)),                        \n",
    "            transforms.ToTensor(),\n",
    "            transforms.Normalize([0.5, 0.5, 0.5], [0.5, 0.5, 0.5]),                        \n",
    "        ]\n",
    "    ),\n",
    "}\n",
    "image_datasets = {\n",
    "    x: datasets.ImageFolder(os.path.join(DATA_DIR, x), data_transforms[x])\n",
    "    for x in [\"train\", \"valid\"]\n",
    "}\n",
    "dataloaders = {\n",
    "    x: torch.utils.data.DataLoader(\n",
    "        image_datasets[x], batch_size=24, shuffle=True, num_workers=4\n",
    "    )\n",
    "    for x in [\"train\", \"valid\"]\n",
    "}\n",
    "dataset_sizes = {x: len(image_datasets[x]) for x in [\"train\", \"valid\"]}\n",
    "class_names = image_datasets[\"train\"].classes"
   ]
  },
  {
   "cell_type": "code",
   "execution_count": 5,
   "id": "9460f68d-5c46-4b3c-8634-b897ec4e8b6a",
   "metadata": {},
   "outputs": [],
   "source": [
    "def get_features(model, train_loader, valid_loader):\n",
    "    with torch.no_grad():\n",
    "        Z_train = torch.empty((0, 1024))\n",
    "        y_train = torch.empty((0))\n",
    "        Z_valid = torch.empty((0, 1024))\n",
    "        y_valid = torch.empty((0))\n",
    "        for X, y in train_loader:\n",
    "            Z_train = torch.cat((Z_train, model(X)), dim=0)\n",
    "            y_train = torch.cat((y_train, y))\n",
    "        for X, y in valid_loader:\n",
    "            Z_valid = torch.cat((Z_valid, model(X)), dim=0)\n",
    "            y_valid = torch.cat((y_valid, y))\n",
    "    return Z_train.detach(), y_train.detach(), Z_valid.detach(), y_valid.detach()"
   ]
  },
  {
   "cell_type": "code",
   "execution_count": 6,
   "id": "2bc16eea-a556-4845-98c2-c26b8315949b",
   "metadata": {},
   "outputs": [],
   "source": [
    "densenet = models.densenet121(weights=\"DenseNet121_Weights.IMAGENET1K_V1\")\n",
    "densenet.classifier = nn.Identity()  # remove last \"classification\" layer"
   ]
  },
  {
   "cell_type": "code",
   "execution_count": 7,
   "id": "47bfd04c-fa2d-4365-9c00-1e2a4a8293f8",
   "metadata": {},
   "outputs": [],
   "source": [
    "Z_train, y_train, Z_valid, y_valid = get_features(\n",
    "    densenet, dataloaders[\"train\"], dataloaders[\"valid\"]\n",
    ")"
   ]
  },
  {
   "cell_type": "code",
   "execution_count": 8,
   "id": "42eebb6e-b948-4fd5-a3e9-809f9047916e",
   "metadata": {},
   "outputs": [
    {
     "data": {
      "text/plain": [
       "1.0"
      ]
     },
     "execution_count": 8,
     "metadata": {},
     "output_type": "execute_result"
    }
   ],
   "source": [
    "pipe = make_pipeline(StandardScaler(), LogisticRegression(max_iter=3000, C=10))\n",
    "pipe.fit(Z_train, y_train)\n",
    "pipe.score(Z_train.numpy(), y_train.numpy())"
   ]
  },
  {
   "cell_type": "code",
   "execution_count": 9,
   "id": "8f80ba82-7d35-4181-af13-008b19ca7ef9",
   "metadata": {},
   "outputs": [
    {
     "data": {
      "text/plain": [
       "0.55"
      ]
     },
     "execution_count": 9,
     "metadata": {},
     "output_type": "execute_result"
    }
   ],
   "source": [
    "pipe.score(Z_valid.numpy(), y_valid.numpy())"
   ]
  },
  {
   "cell_type": "code",
   "execution_count": 12,
   "id": "a5f85eec-374a-4c28-8d45-b122137cb2c7",
   "metadata": {},
   "outputs": [
    {
     "name": "stdout",
     "output_type": "stream",
     "text": [
      "                Predicted animals  Predicted nothing  Predicted people\n",
      "Actual animals                 67                  5                 0\n",
      "Actual nothing                 15                 18                 2\n",
      "Actual people                  33                 17                 3\n"
     ]
    }
   ],
   "source": [
    "from sklearn.metrics import confusion_matrix\n",
    "\n",
    "y_pred = pipe.predict(Z_valid.numpy())\n",
    "cm = confusion_matrix(y_valid, y_pred, labels=[0, 1, 2])\n",
    "df_cm = pd.DataFrame(cm, \n",
    "                     index=[f'Actual {name}' for name in class_names],\n",
    "                     columns=[f'Predicted {name}' for name in class_names])\n",
    "print(df_cm)"
   ]
  },
  {
   "cell_type": "code",
   "execution_count": null,
   "id": "3329e995-273a-4c63-b9c1-59fc6ac31734",
   "metadata": {},
   "outputs": [],
   "source": []
  }
 ],
 "metadata": {
  "kernelspec": {
   "display_name": "Python [conda env:330] *",
   "language": "python",
   "name": "conda-env-330-py"
  },
  "language_info": {
   "codemirror_mode": {
    "name": "ipython",
    "version": 3
   },
   "file_extension": ".py",
   "mimetype": "text/x-python",
   "name": "python",
   "nbconvert_exporter": "python",
   "pygments_lexer": "ipython3",
   "version": "3.12.0"
  }
 },
 "nbformat": 4,
 "nbformat_minor": 5
}
